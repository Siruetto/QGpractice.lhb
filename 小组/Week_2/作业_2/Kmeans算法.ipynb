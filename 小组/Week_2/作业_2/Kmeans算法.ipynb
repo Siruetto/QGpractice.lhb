{
 "cells": [
  {
   "cell_type": "markdown",
   "id": "1c51579d-c305-49e2-aef0-41573faad242",
   "metadata": {},
   "source": [
    "## K-Means算法\n",
    "一、聚类概念:  \n",
    "1.无监督问题：我们手中并没有对数据进行分类的**标签**;  \n",
    "2.聚类：**相似**的东西分到一组;  \n",
    "3.聚类的难点：如何评估数据，如何调参。  \n",
    "二、基本概念:  \n",
    "1.簇：K-Means算法指定的K值，**分成多少种就有多少簇**;  \n",
    "2.质心：均值，即**向量各维取平均**即可;  \n",
    "3.距离的度量：常用**欧几里得距离和余弦相似度**(先标准化);  \n",
    "4.优化目标：$min \\sum_{i=1}^{k}{ \\sum_{x\\in C_{i}}{dist(c_{i},x)^2}}$  "
   ]
  }
 ],
 "metadata": {
  "kernelspec": {
   "display_name": "Python 3 (ipykernel)",
   "language": "python",
   "name": "python3"
  },
  "language_info": {
   "codemirror_mode": {
    "name": "ipython",
    "version": 3
   },
   "file_extension": ".py",
   "mimetype": "text/x-python",
   "name": "python",
   "nbconvert_exporter": "python",
   "pygments_lexer": "ipython3",
   "version": "3.12.7"
  }
 },
 "nbformat": 4,
 "nbformat_minor": 5
}
